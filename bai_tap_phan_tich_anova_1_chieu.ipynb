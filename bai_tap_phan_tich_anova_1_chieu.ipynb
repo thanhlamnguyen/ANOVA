{
  "nbformat": 4,
  "nbformat_minor": 0,
  "metadata": {
    "kernelspec": {
      "display_name": "Python 3",
      "language": "python",
      "name": "python3"
    },
    "language_info": {
      "codemirror_mode": {
        "name": "ipython",
        "version": 3
      },
      "file_extension": ".py",
      "mimetype": "text/x-python",
      "name": "python",
      "nbconvert_exporter": "python",
      "pygments_lexer": "ipython3",
      "version": "3.7.3"
    },
    "colab": {
      "name": "bai-tap-phan-tich-anova-1-chieu.ipynb",
      "provenance": [],
      "include_colab_link": true
    }
  },
  "cells": [
    {
      "cell_type": "markdown",
      "metadata": {
        "id": "view-in-github",
        "colab_type": "text"
      },
      "source": [
        "<a href=\"https://colab.research.google.com/github/thanhlamnguyen/ANOVA/blob/main/bai_tap_phan_tich_anova_1_chieu.ipynb\" target=\"_parent\"><img src=\"https://colab.research.google.com/assets/colab-badge.svg\" alt=\"Open In Colab\"/></a>"
      ]
    },
    {
      "cell_type": "markdown",
      "metadata": {
        "id": "uyOiJ-cGP9bH"
      },
      "source": [
        "Hãy sử dụng các tập dữ liệu sau và tiến hành phân tích ANOVA 1 chiều\n",
        "\n",
        "- [Excavation Depth and Archaeology](https://college.cengage.com/mathematics/brase/understandable_statistics/7e/students/datasets/owan/frames/owan01.html)\n",
        "- [Apple Orchard Experiment](https://college.cengage.com/mathematics/brase/understandable_statistics/7e/students/datasets/owan/frames/owan02.html)\n",
        "- [Red Dye Number 40](https://college.cengage.com/mathematics/brase/understandable_statistics/7e/students/datasets/owan/frames/owan03.html)\n",
        "- [Business Startup Costs](https://college.cengage.com/mathematics/brase/understandable_statistics/7e/students/datasets/owan/frames/owan04.html)\n",
        "- [Weights of Football Players](https://college.cengage.com/mathematics/brase/understandable_statistics/7e/students/datasets/owan/frames/owan05.html)"
      ]
    },
    {
      "cell_type": "code",
      "metadata": {
        "id": "ybI4QVASP9bM"
      },
      "source": [
        "import pandas as pd\n",
        "from scipy import stats"
      ],
      "execution_count": 13,
      "outputs": []
    },
    {
      "cell_type": "code",
      "metadata": {
        "id": "By8ZV8AIUPxJ"
      },
      "source": [
        "\n",
        "class Anova:\n",
        "    def __init__(self,data):\n",
        "        self.data = data\n",
        "        self.samples = []\n",
        "        for i in data.columns:\n",
        "            self.samples.append(data[i].dropna())\n",
        "    \n",
        "    def shapiro_test(self):\n",
        "        for (stt, sample) in enumerate(self.samples):\n",
        "            pv_s = stats.shapiro(sample)[1]\n",
        "            if pv_s > 0.05:\n",
        "                print(f'Mẫu {stt} tuân theo phân phối chuẩn')\n",
        "            else:\n",
        "                print(f'Mẫu {stt} không tuân theo phân phối chuẩn')\n",
        "  \n",
        "    def levene_test(self):\n",
        "        pv_l = stats.levene(*self.samples)[1]\n",
        "        if pv_l > 0.05:\n",
        "            print('Phương sai bằng nhau')\n",
        "        else:\n",
        "            print('Có ít nhất một cặp Phương sai không bằng nhau')\n",
        "\n",
        "    def anova_test(self):\n",
        "        pv_a = stats.f_oneway(*self.samples)[1]\n",
        "        if pv_a > 0.05:\n",
        "            print('các giá trị trung bình bằng nhau')\n",
        "        else:\n",
        "            print('Có tối thiểu một cặp giá trị trung bình có giá trị khác nhau')"
      ],
      "execution_count": 14,
      "outputs": []
    },
    {
      "cell_type": "code",
      "metadata": {
        "id": "06Ycr3gtP9bO",
        "outputId": "9767a0d4-a7b8-4e9b-f02d-cf405e9ea621",
        "colab": {
          "base_uri": "https://localhost:8080/"
        }
      },
      "source": [
        "data_1 = pd.read_excel('owan01.xls')\n",
        "a1 = Anova(data_1)\n",
        "a1.shapiro_test()\n",
        "a1.levene_test()\n",
        "a1.anova_test()"
      ],
      "execution_count": 15,
      "outputs": [
        {
          "output_type": "stream",
          "text": [
            "*** No CODEPAGE record, no encoding_override: will use 'ascii'\n",
            "Mẫu 0 tuân theo phân phối chuẩn\n",
            "Mẫu 1 tuân theo phân phối chuẩn\n",
            "Mẫu 2 tuân theo phân phối chuẩn\n",
            "Mẫu 3 tuân theo phân phối chuẩn\n",
            "Phương sai bằng nhau\n",
            "Có tối thiểu một cặp giá trị trung bình có giá trị khác nhau\n"
          ],
          "name": "stdout"
        }
      ]
    },
    {
      "cell_type": "code",
      "metadata": {
        "id": "pvWBAKwBUwMD",
        "outputId": "c918d7b1-4113-42bc-b692-d96d5b19e2f9",
        "colab": {
          "base_uri": "https://localhost:8080/"
        }
      },
      "source": [
        "data_2 = pd.read_excel('owan02.xls')\n",
        "a2 = Anova(data_2)\n",
        "a2.shapiro_test()\n",
        "a2.levene_test()\n",
        "a2.anova_test()"
      ],
      "execution_count": 16,
      "outputs": [
        {
          "output_type": "stream",
          "text": [
            "*** No CODEPAGE record, no encoding_override: will use 'ascii'\n",
            "Mẫu 0 tuân theo phân phối chuẩn\n",
            "Mẫu 1 tuân theo phân phối chuẩn\n",
            "Mẫu 2 tuân theo phân phối chuẩn\n",
            "Mẫu 3 tuân theo phân phối chuẩn\n",
            "Mẫu 4 tuân theo phân phối chuẩn\n",
            "Phương sai bằng nhau\n",
            "các giá trị trung bình bằng nhau\n"
          ],
          "name": "stdout"
        }
      ]
    },
    {
      "cell_type": "code",
      "metadata": {
        "id": "_9GS4XqYVCwx",
        "outputId": "d62cddd8-3c22-462f-8d9f-76bd23c7c366",
        "colab": {
          "base_uri": "https://localhost:8080/"
        }
      },
      "source": [
        "data_3 = pd.read_excel('owan03.xls')\n",
        "a3 = Anova(data_3)\n",
        "a3.shapiro_test()\n",
        "a3.levene_test()\n",
        "a3.anova_test()"
      ],
      "execution_count": 10,
      "outputs": [
        {
          "output_type": "stream",
          "text": [
            "*** No CODEPAGE record, no encoding_override: will use 'ascii'\n",
            "Mẫu 0 tuân theo phân phối chuẩn\n",
            "Mẫu 1 tuân theo phân phối chuẩn\n",
            "Mẫu 2 tuân theo phân phối chuẩn\n",
            "Mẫu 3 tuân theo phân phối chuẩn\n",
            "Có ít nhất một cặp Phương sai không bằng nhau\n",
            "Có tối thiểu một cặp giá trị trung bình có giá trị khác nhau\n"
          ],
          "name": "stdout"
        }
      ]
    },
    {
      "cell_type": "code",
      "metadata": {
        "id": "YW_74PG8VMAq",
        "outputId": "2cb1f8ac-7aed-448b-9542-4bb8dbb9ea45",
        "colab": {
          "base_uri": "https://localhost:8080/"
        }
      },
      "source": [
        "data_4 = pd.read_excel('owan04.xls')\n",
        "a4 = Anova(data_4)\n",
        "a4.shapiro_test()\n",
        "a4.levene_test()\n",
        "a4.anova_test()"
      ],
      "execution_count": 11,
      "outputs": [
        {
          "output_type": "stream",
          "text": [
            "*** No CODEPAGE record, no encoding_override: will use 'ascii'\n",
            "Mẫu 0 tuân theo phân phối chuẩn\n",
            "Mẫu 1 tuân theo phân phối chuẩn\n",
            "Mẫu 2 tuân theo phân phối chuẩn\n",
            "Mẫu 3 tuân theo phân phối chuẩn\n",
            "Mẫu 4 tuân theo phân phối chuẩn\n",
            "Phương sai bằng nhau\n",
            "Có tối thiểu một cặp giá trị trung bình có giá trị khác nhau\n"
          ],
          "name": "stdout"
        }
      ]
    },
    {
      "cell_type": "code",
      "metadata": {
        "id": "u1SIXgD7VQRb",
        "outputId": "2c289d1c-fc1d-4d8c-ccbd-9c42aa42ecbd",
        "colab": {
          "base_uri": "https://localhost:8080/"
        }
      },
      "source": [
        "data_5 = pd.read_excel('owan05.xls')\n",
        "a5 = Anova(data_5)\n",
        "a5.shapiro_test()\n",
        "a5.levene_test()\n",
        "a5.anova_test()"
      ],
      "execution_count": 12,
      "outputs": [
        {
          "output_type": "stream",
          "text": [
            "*** No CODEPAGE record, no encoding_override: will use 'ascii'\n",
            "Mẫu 0 không tuân theo phân phối chuẩn\n",
            "Mẫu 1 tuân theo phân phối chuẩn\n",
            "Mẫu 2 tuân theo phân phối chuẩn\n",
            "Mẫu 3 tuân theo phân phối chuẩn\n",
            "Mẫu 4 tuân theo phân phối chuẩn\n",
            "Phương sai bằng nhau\n",
            "các giá trị trung bình bằng nhau\n"
          ],
          "name": "stdout"
        }
      ]
    }
  ]
}