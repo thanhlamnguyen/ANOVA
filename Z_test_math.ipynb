{
  "nbformat": 4,
  "nbformat_minor": 0,
  "metadata": {
    "colab": {
      "name": "Z-test-math.ipynb",
      "provenance": [],
      "collapsed_sections": [],
      "include_colab_link": true
    },
    "kernelspec": {
      "name": "python3",
      "display_name": "Python 3"
    },
    "language_info": {
      "name": "python"
    }
  },
  "cells": [
    {
      "cell_type": "markdown",
      "metadata": {
        "id": "view-in-github",
        "colab_type": "text"
      },
      "source": [
        "<a href=\"https://colab.research.google.com/github/thanhlamnguyen/ANOVA/blob/main/Z_test_math.ipynb\" target=\"_parent\"><img src=\"https://colab.research.google.com/assets/colab-badge.svg\" alt=\"Open In Colab\"/></a>"
      ]
    },
    {
      "cell_type": "code",
      "metadata": {
        "colab": {
          "base_uri": "https://localhost:8080/"
        },
        "id": "Ug3BGXLCru7E",
        "outputId": "31313120-3d78-435f-8595-5121c9b5d04c"
      },
      "source": [
        "pip install scipy==1.6.3"
      ],
      "execution_count": null,
      "outputs": [
        {
          "output_type": "stream",
          "text": [
            "Collecting scipy==1.6.3\n",
            "\u001b[?25l  Downloading https://files.pythonhosted.org/packages/7d/e8/43ffca541d2f208d516296950b25fe1084b35c2881f4d444c1346ca75815/scipy-1.6.3-cp37-cp37m-manylinux1_x86_64.whl (27.4MB)\n",
            "\u001b[K     |████████████████████████████████| 27.4MB 140kB/s \n",
            "\u001b[?25hRequirement already satisfied: numpy<1.23.0,>=1.16.5 in /usr/local/lib/python3.7/dist-packages (from scipy==1.6.3) (1.19.5)\n",
            "\u001b[31mERROR: albumentations 0.1.12 has requirement imgaug<0.2.7,>=0.2.5, but you'll have imgaug 0.2.9 which is incompatible.\u001b[0m\n",
            "Installing collected packages: scipy\n",
            "  Found existing installation: scipy 1.4.1\n",
            "    Uninstalling scipy-1.4.1:\n",
            "      Successfully uninstalled scipy-1.4.1\n",
            "Successfully installed scipy-1.6.3\n"
          ],
          "name": "stdout"
        }
      ]
    },
    {
      "cell_type": "code",
      "metadata": {
        "colab": {
          "base_uri": "https://localhost:8080/"
        },
        "id": "62ma-ILZmicO",
        "outputId": "b9854005-8810-4a51-d3c5-ca3e2b9c96f3"
      },
      "source": [
        "import numpy as np\n",
        "import pandas as pd\n",
        "from matplotlib import pyplot as plt\n",
        "from scipy import stats, interpolate\n",
        "import seaborn as sns\n",
        "import statsmodels.api as sm\n",
        "%matplotlib inline\n",
        "plt.rcParams['figure.figsize'] = [16, 9]\n",
        "plt.rcParams['figure.dpi'] = 100\n",
        "plt.rcParams.update({'font.size': 18})"
      ],
      "execution_count": null,
      "outputs": [
        {
          "output_type": "stream",
          "text": [
            "/usr/local/lib/python3.7/dist-packages/statsmodels/tools/_testing.py:19: FutureWarning: pandas.util.testing is deprecated. Use the functions in the public API at pandas.testing instead.\n",
            "  import pandas.util.testing as tm\n"
          ],
          "name": "stderr"
        }
      ]
    },
    {
      "cell_type": "code",
      "metadata": {
        "colab": {
          "base_uri": "https://localhost:8080/"
        },
        "id": "SUTGE3JamwN9",
        "outputId": "fb57e97f-7edd-4360-c434-b552b3132d0c"
      },
      "source": [
        "# Tính giá trị tới hạn bằng scipy và hàm ppf (hàm ngược của hàm cdf) #\n",
        "from scipy.stats import norm\n",
        "def critical_value(alpha, tail=0):\n",
        "    '''Tính giá trị tới hạn: tail=0:: 2phia; tail=-1:left; tail=1:right'''\n",
        "    if tail == -1: return norm.ppf(alpha)\n",
        "    elif tail == 1: return norm.ppf(1-alpha)\n",
        "    else: return (norm.ppf(alpha/2), norm.ppf(1-alpha/2))\n",
        "\n",
        "alpha = 0.05\n",
        "# tu bang A.2 chon t_* = 1.96\n",
        "# dung ham cdf de tinh gia tri p chinh xac neu t_*=1.96\n",
        "print(f\"Giá trị tới hạn 2 phía: {critical_value(alpha)}\")\n",
        "print(f\"Giá trị tới hạn 1 phía (trái): {critical_value(alpha, tail=-1)}\")\n",
        "print(f\"Giá trị tới hạn 1 phía (phải): {critical_value(alpha, tail=1)}\")\n",
        "# Khi thi ta chấp nhận t_* = 1.96\n",
        "# Trong khi thực hành thì ta không chấp nhận t_*=1.96 mà giá trị thực là t_* = 1.959963984540054"
      ],
      "execution_count": null,
      "outputs": [
        {
          "output_type": "stream",
          "text": [
            "Giá trị tới hạn 2 phía: (-1.9599639845400545, 1.959963984540054)\n",
            "Giá trị tới hạn 1 phía (trái): -1.6448536269514729\n",
            "Giá trị tới hạn 1 phía (phải): 1.6448536269514722\n"
          ],
          "name": "stdout"
        }
      ]
    },
    {
      "cell_type": "code",
      "metadata": {
        "colab": {
          "base_uri": "https://localhost:8080/",
          "height": 243
        },
        "id": "CmKChGFGmzTd",
        "outputId": "25172903-c29d-4580-c0ab-f94baceea769"
      },
      "source": [
        "gia_nha_dat_us = pd.read_csv(\"gia_nha_dat_us.csv\")\n",
        "gia_nha_dat_us.head()"
      ],
      "execution_count": null,
      "outputs": [
        {
          "output_type": "execute_result",
          "data": {
            "text/html": [
              "<div>\n",
              "<style scoped>\n",
              "    .dataframe tbody tr th:only-of-type {\n",
              "        vertical-align: middle;\n",
              "    }\n",
              "\n",
              "    .dataframe tbody tr th {\n",
              "        vertical-align: top;\n",
              "    }\n",
              "\n",
              "    .dataframe thead th {\n",
              "        text-align: right;\n",
              "    }\n",
              "</style>\n",
              "<table border=\"1\" class=\"dataframe\">\n",
              "  <thead>\n",
              "    <tr style=\"text-align: right;\">\n",
              "      <th></th>\n",
              "      <th>Id</th>\n",
              "      <th>MSSubClass</th>\n",
              "      <th>MSZoning</th>\n",
              "      <th>LotFrontage</th>\n",
              "      <th>LotArea</th>\n",
              "      <th>Street</th>\n",
              "      <th>Alley</th>\n",
              "      <th>LotShape</th>\n",
              "      <th>LandContour</th>\n",
              "      <th>Utilities</th>\n",
              "      <th>LotConfig</th>\n",
              "      <th>LandSlope</th>\n",
              "      <th>Neighborhood</th>\n",
              "      <th>Condition1</th>\n",
              "      <th>Condition2</th>\n",
              "      <th>BldgType</th>\n",
              "      <th>HouseStyle</th>\n",
              "      <th>OverallQual</th>\n",
              "      <th>OverallCond</th>\n",
              "      <th>YearBuilt</th>\n",
              "      <th>YearRemodAdd</th>\n",
              "      <th>RoofStyle</th>\n",
              "      <th>RoofMatl</th>\n",
              "      <th>Exterior1st</th>\n",
              "      <th>Exterior2nd</th>\n",
              "      <th>MasVnrType</th>\n",
              "      <th>MasVnrArea</th>\n",
              "      <th>ExterQual</th>\n",
              "      <th>ExterCond</th>\n",
              "      <th>Foundation</th>\n",
              "      <th>BsmtQual</th>\n",
              "      <th>BsmtCond</th>\n",
              "      <th>BsmtExposure</th>\n",
              "      <th>BsmtFinType1</th>\n",
              "      <th>BsmtFinSF1</th>\n",
              "      <th>BsmtFinType2</th>\n",
              "      <th>BsmtFinSF2</th>\n",
              "      <th>BsmtUnfSF</th>\n",
              "      <th>TotalBsmtSF</th>\n",
              "      <th>Heating</th>\n",
              "      <th>...</th>\n",
              "      <th>CentralAir</th>\n",
              "      <th>Electrical</th>\n",
              "      <th>1stFlrSF</th>\n",
              "      <th>2ndFlrSF</th>\n",
              "      <th>LowQualFinSF</th>\n",
              "      <th>GrLivArea</th>\n",
              "      <th>BsmtFullBath</th>\n",
              "      <th>BsmtHalfBath</th>\n",
              "      <th>FullBath</th>\n",
              "      <th>HalfBath</th>\n",
              "      <th>BedroomAbvGr</th>\n",
              "      <th>KitchenAbvGr</th>\n",
              "      <th>KitchenQual</th>\n",
              "      <th>TotRmsAbvGrd</th>\n",
              "      <th>Functional</th>\n",
              "      <th>Fireplaces</th>\n",
              "      <th>FireplaceQu</th>\n",
              "      <th>GarageType</th>\n",
              "      <th>GarageYrBlt</th>\n",
              "      <th>GarageFinish</th>\n",
              "      <th>GarageCars</th>\n",
              "      <th>GarageArea</th>\n",
              "      <th>GarageQual</th>\n",
              "      <th>GarageCond</th>\n",
              "      <th>PavedDrive</th>\n",
              "      <th>WoodDeckSF</th>\n",
              "      <th>OpenPorchSF</th>\n",
              "      <th>EnclosedPorch</th>\n",
              "      <th>3SsnPorch</th>\n",
              "      <th>ScreenPorch</th>\n",
              "      <th>PoolArea</th>\n",
              "      <th>PoolQC</th>\n",
              "      <th>Fence</th>\n",
              "      <th>MiscFeature</th>\n",
              "      <th>MiscVal</th>\n",
              "      <th>MoSold</th>\n",
              "      <th>YrSold</th>\n",
              "      <th>SaleType</th>\n",
              "      <th>SaleCondition</th>\n",
              "      <th>SalePrice</th>\n",
              "    </tr>\n",
              "  </thead>\n",
              "  <tbody>\n",
              "    <tr>\n",
              "      <th>0</th>\n",
              "      <td>1</td>\n",
              "      <td>60</td>\n",
              "      <td>RL</td>\n",
              "      <td>65.0</td>\n",
              "      <td>8450</td>\n",
              "      <td>Pave</td>\n",
              "      <td>NaN</td>\n",
              "      <td>Reg</td>\n",
              "      <td>Lvl</td>\n",
              "      <td>AllPub</td>\n",
              "      <td>Inside</td>\n",
              "      <td>Gtl</td>\n",
              "      <td>CollgCr</td>\n",
              "      <td>Norm</td>\n",
              "      <td>Norm</td>\n",
              "      <td>1Fam</td>\n",
              "      <td>2Story</td>\n",
              "      <td>7</td>\n",
              "      <td>5</td>\n",
              "      <td>2003</td>\n",
              "      <td>2003</td>\n",
              "      <td>Gable</td>\n",
              "      <td>CompShg</td>\n",
              "      <td>VinylSd</td>\n",
              "      <td>VinylSd</td>\n",
              "      <td>BrkFace</td>\n",
              "      <td>196.0</td>\n",
              "      <td>Gd</td>\n",
              "      <td>TA</td>\n",
              "      <td>PConc</td>\n",
              "      <td>Gd</td>\n",
              "      <td>TA</td>\n",
              "      <td>No</td>\n",
              "      <td>GLQ</td>\n",
              "      <td>706</td>\n",
              "      <td>Unf</td>\n",
              "      <td>0</td>\n",
              "      <td>150</td>\n",
              "      <td>856</td>\n",
              "      <td>GasA</td>\n",
              "      <td>...</td>\n",
              "      <td>Y</td>\n",
              "      <td>SBrkr</td>\n",
              "      <td>856</td>\n",
              "      <td>854</td>\n",
              "      <td>0</td>\n",
              "      <td>1710</td>\n",
              "      <td>1</td>\n",
              "      <td>0</td>\n",
              "      <td>2</td>\n",
              "      <td>1</td>\n",
              "      <td>3</td>\n",
              "      <td>1</td>\n",
              "      <td>Gd</td>\n",
              "      <td>8</td>\n",
              "      <td>Typ</td>\n",
              "      <td>0</td>\n",
              "      <td>NaN</td>\n",
              "      <td>Attchd</td>\n",
              "      <td>2003.0</td>\n",
              "      <td>RFn</td>\n",
              "      <td>2</td>\n",
              "      <td>548</td>\n",
              "      <td>TA</td>\n",
              "      <td>TA</td>\n",
              "      <td>Y</td>\n",
              "      <td>0</td>\n",
              "      <td>61</td>\n",
              "      <td>0</td>\n",
              "      <td>0</td>\n",
              "      <td>0</td>\n",
              "      <td>0</td>\n",
              "      <td>NaN</td>\n",
              "      <td>NaN</td>\n",
              "      <td>NaN</td>\n",
              "      <td>0</td>\n",
              "      <td>2</td>\n",
              "      <td>2008</td>\n",
              "      <td>WD</td>\n",
              "      <td>Normal</td>\n",
              "      <td>208500</td>\n",
              "    </tr>\n",
              "    <tr>\n",
              "      <th>1</th>\n",
              "      <td>2</td>\n",
              "      <td>20</td>\n",
              "      <td>RL</td>\n",
              "      <td>80.0</td>\n",
              "      <td>9600</td>\n",
              "      <td>Pave</td>\n",
              "      <td>NaN</td>\n",
              "      <td>Reg</td>\n",
              "      <td>Lvl</td>\n",
              "      <td>AllPub</td>\n",
              "      <td>FR2</td>\n",
              "      <td>Gtl</td>\n",
              "      <td>Veenker</td>\n",
              "      <td>Feedr</td>\n",
              "      <td>Norm</td>\n",
              "      <td>1Fam</td>\n",
              "      <td>1Story</td>\n",
              "      <td>6</td>\n",
              "      <td>8</td>\n",
              "      <td>1976</td>\n",
              "      <td>1976</td>\n",
              "      <td>Gable</td>\n",
              "      <td>CompShg</td>\n",
              "      <td>MetalSd</td>\n",
              "      <td>MetalSd</td>\n",
              "      <td>None</td>\n",
              "      <td>0.0</td>\n",
              "      <td>TA</td>\n",
              "      <td>TA</td>\n",
              "      <td>CBlock</td>\n",
              "      <td>Gd</td>\n",
              "      <td>TA</td>\n",
              "      <td>Gd</td>\n",
              "      <td>ALQ</td>\n",
              "      <td>978</td>\n",
              "      <td>Unf</td>\n",
              "      <td>0</td>\n",
              "      <td>284</td>\n",
              "      <td>1262</td>\n",
              "      <td>GasA</td>\n",
              "      <td>...</td>\n",
              "      <td>Y</td>\n",
              "      <td>SBrkr</td>\n",
              "      <td>1262</td>\n",
              "      <td>0</td>\n",
              "      <td>0</td>\n",
              "      <td>1262</td>\n",
              "      <td>0</td>\n",
              "      <td>1</td>\n",
              "      <td>2</td>\n",
              "      <td>0</td>\n",
              "      <td>3</td>\n",
              "      <td>1</td>\n",
              "      <td>TA</td>\n",
              "      <td>6</td>\n",
              "      <td>Typ</td>\n",
              "      <td>1</td>\n",
              "      <td>TA</td>\n",
              "      <td>Attchd</td>\n",
              "      <td>1976.0</td>\n",
              "      <td>RFn</td>\n",
              "      <td>2</td>\n",
              "      <td>460</td>\n",
              "      <td>TA</td>\n",
              "      <td>TA</td>\n",
              "      <td>Y</td>\n",
              "      <td>298</td>\n",
              "      <td>0</td>\n",
              "      <td>0</td>\n",
              "      <td>0</td>\n",
              "      <td>0</td>\n",
              "      <td>0</td>\n",
              "      <td>NaN</td>\n",
              "      <td>NaN</td>\n",
              "      <td>NaN</td>\n",
              "      <td>0</td>\n",
              "      <td>5</td>\n",
              "      <td>2007</td>\n",
              "      <td>WD</td>\n",
              "      <td>Normal</td>\n",
              "      <td>181500</td>\n",
              "    </tr>\n",
              "    <tr>\n",
              "      <th>2</th>\n",
              "      <td>3</td>\n",
              "      <td>60</td>\n",
              "      <td>RL</td>\n",
              "      <td>68.0</td>\n",
              "      <td>11250</td>\n",
              "      <td>Pave</td>\n",
              "      <td>NaN</td>\n",
              "      <td>IR1</td>\n",
              "      <td>Lvl</td>\n",
              "      <td>AllPub</td>\n",
              "      <td>Inside</td>\n",
              "      <td>Gtl</td>\n",
              "      <td>CollgCr</td>\n",
              "      <td>Norm</td>\n",
              "      <td>Norm</td>\n",
              "      <td>1Fam</td>\n",
              "      <td>2Story</td>\n",
              "      <td>7</td>\n",
              "      <td>5</td>\n",
              "      <td>2001</td>\n",
              "      <td>2002</td>\n",
              "      <td>Gable</td>\n",
              "      <td>CompShg</td>\n",
              "      <td>VinylSd</td>\n",
              "      <td>VinylSd</td>\n",
              "      <td>BrkFace</td>\n",
              "      <td>162.0</td>\n",
              "      <td>Gd</td>\n",
              "      <td>TA</td>\n",
              "      <td>PConc</td>\n",
              "      <td>Gd</td>\n",
              "      <td>TA</td>\n",
              "      <td>Mn</td>\n",
              "      <td>GLQ</td>\n",
              "      <td>486</td>\n",
              "      <td>Unf</td>\n",
              "      <td>0</td>\n",
              "      <td>434</td>\n",
              "      <td>920</td>\n",
              "      <td>GasA</td>\n",
              "      <td>...</td>\n",
              "      <td>Y</td>\n",
              "      <td>SBrkr</td>\n",
              "      <td>920</td>\n",
              "      <td>866</td>\n",
              "      <td>0</td>\n",
              "      <td>1786</td>\n",
              "      <td>1</td>\n",
              "      <td>0</td>\n",
              "      <td>2</td>\n",
              "      <td>1</td>\n",
              "      <td>3</td>\n",
              "      <td>1</td>\n",
              "      <td>Gd</td>\n",
              "      <td>6</td>\n",
              "      <td>Typ</td>\n",
              "      <td>1</td>\n",
              "      <td>TA</td>\n",
              "      <td>Attchd</td>\n",
              "      <td>2001.0</td>\n",
              "      <td>RFn</td>\n",
              "      <td>2</td>\n",
              "      <td>608</td>\n",
              "      <td>TA</td>\n",
              "      <td>TA</td>\n",
              "      <td>Y</td>\n",
              "      <td>0</td>\n",
              "      <td>42</td>\n",
              "      <td>0</td>\n",
              "      <td>0</td>\n",
              "      <td>0</td>\n",
              "      <td>0</td>\n",
              "      <td>NaN</td>\n",
              "      <td>NaN</td>\n",
              "      <td>NaN</td>\n",
              "      <td>0</td>\n",
              "      <td>9</td>\n",
              "      <td>2008</td>\n",
              "      <td>WD</td>\n",
              "      <td>Normal</td>\n",
              "      <td>223500</td>\n",
              "    </tr>\n",
              "    <tr>\n",
              "      <th>3</th>\n",
              "      <td>4</td>\n",
              "      <td>70</td>\n",
              "      <td>RL</td>\n",
              "      <td>60.0</td>\n",
              "      <td>9550</td>\n",
              "      <td>Pave</td>\n",
              "      <td>NaN</td>\n",
              "      <td>IR1</td>\n",
              "      <td>Lvl</td>\n",
              "      <td>AllPub</td>\n",
              "      <td>Corner</td>\n",
              "      <td>Gtl</td>\n",
              "      <td>Crawfor</td>\n",
              "      <td>Norm</td>\n",
              "      <td>Norm</td>\n",
              "      <td>1Fam</td>\n",
              "      <td>2Story</td>\n",
              "      <td>7</td>\n",
              "      <td>5</td>\n",
              "      <td>1915</td>\n",
              "      <td>1970</td>\n",
              "      <td>Gable</td>\n",
              "      <td>CompShg</td>\n",
              "      <td>Wd Sdng</td>\n",
              "      <td>Wd Shng</td>\n",
              "      <td>None</td>\n",
              "      <td>0.0</td>\n",
              "      <td>TA</td>\n",
              "      <td>TA</td>\n",
              "      <td>BrkTil</td>\n",
              "      <td>TA</td>\n",
              "      <td>Gd</td>\n",
              "      <td>No</td>\n",
              "      <td>ALQ</td>\n",
              "      <td>216</td>\n",
              "      <td>Unf</td>\n",
              "      <td>0</td>\n",
              "      <td>540</td>\n",
              "      <td>756</td>\n",
              "      <td>GasA</td>\n",
              "      <td>...</td>\n",
              "      <td>Y</td>\n",
              "      <td>SBrkr</td>\n",
              "      <td>961</td>\n",
              "      <td>756</td>\n",
              "      <td>0</td>\n",
              "      <td>1717</td>\n",
              "      <td>1</td>\n",
              "      <td>0</td>\n",
              "      <td>1</td>\n",
              "      <td>0</td>\n",
              "      <td>3</td>\n",
              "      <td>1</td>\n",
              "      <td>Gd</td>\n",
              "      <td>7</td>\n",
              "      <td>Typ</td>\n",
              "      <td>1</td>\n",
              "      <td>Gd</td>\n",
              "      <td>Detchd</td>\n",
              "      <td>1998.0</td>\n",
              "      <td>Unf</td>\n",
              "      <td>3</td>\n",
              "      <td>642</td>\n",
              "      <td>TA</td>\n",
              "      <td>TA</td>\n",
              "      <td>Y</td>\n",
              "      <td>0</td>\n",
              "      <td>35</td>\n",
              "      <td>272</td>\n",
              "      <td>0</td>\n",
              "      <td>0</td>\n",
              "      <td>0</td>\n",
              "      <td>NaN</td>\n",
              "      <td>NaN</td>\n",
              "      <td>NaN</td>\n",
              "      <td>0</td>\n",
              "      <td>2</td>\n",
              "      <td>2006</td>\n",
              "      <td>WD</td>\n",
              "      <td>Abnorml</td>\n",
              "      <td>140000</td>\n",
              "    </tr>\n",
              "    <tr>\n",
              "      <th>4</th>\n",
              "      <td>5</td>\n",
              "      <td>60</td>\n",
              "      <td>RL</td>\n",
              "      <td>84.0</td>\n",
              "      <td>14260</td>\n",
              "      <td>Pave</td>\n",
              "      <td>NaN</td>\n",
              "      <td>IR1</td>\n",
              "      <td>Lvl</td>\n",
              "      <td>AllPub</td>\n",
              "      <td>FR2</td>\n",
              "      <td>Gtl</td>\n",
              "      <td>NoRidge</td>\n",
              "      <td>Norm</td>\n",
              "      <td>Norm</td>\n",
              "      <td>1Fam</td>\n",
              "      <td>2Story</td>\n",
              "      <td>8</td>\n",
              "      <td>5</td>\n",
              "      <td>2000</td>\n",
              "      <td>2000</td>\n",
              "      <td>Gable</td>\n",
              "      <td>CompShg</td>\n",
              "      <td>VinylSd</td>\n",
              "      <td>VinylSd</td>\n",
              "      <td>BrkFace</td>\n",
              "      <td>350.0</td>\n",
              "      <td>Gd</td>\n",
              "      <td>TA</td>\n",
              "      <td>PConc</td>\n",
              "      <td>Gd</td>\n",
              "      <td>TA</td>\n",
              "      <td>Av</td>\n",
              "      <td>GLQ</td>\n",
              "      <td>655</td>\n",
              "      <td>Unf</td>\n",
              "      <td>0</td>\n",
              "      <td>490</td>\n",
              "      <td>1145</td>\n",
              "      <td>GasA</td>\n",
              "      <td>...</td>\n",
              "      <td>Y</td>\n",
              "      <td>SBrkr</td>\n",
              "      <td>1145</td>\n",
              "      <td>1053</td>\n",
              "      <td>0</td>\n",
              "      <td>2198</td>\n",
              "      <td>1</td>\n",
              "      <td>0</td>\n",
              "      <td>2</td>\n",
              "      <td>1</td>\n",
              "      <td>4</td>\n",
              "      <td>1</td>\n",
              "      <td>Gd</td>\n",
              "      <td>9</td>\n",
              "      <td>Typ</td>\n",
              "      <td>1</td>\n",
              "      <td>TA</td>\n",
              "      <td>Attchd</td>\n",
              "      <td>2000.0</td>\n",
              "      <td>RFn</td>\n",
              "      <td>3</td>\n",
              "      <td>836</td>\n",
              "      <td>TA</td>\n",
              "      <td>TA</td>\n",
              "      <td>Y</td>\n",
              "      <td>192</td>\n",
              "      <td>84</td>\n",
              "      <td>0</td>\n",
              "      <td>0</td>\n",
              "      <td>0</td>\n",
              "      <td>0</td>\n",
              "      <td>NaN</td>\n",
              "      <td>NaN</td>\n",
              "      <td>NaN</td>\n",
              "      <td>0</td>\n",
              "      <td>12</td>\n",
              "      <td>2008</td>\n",
              "      <td>WD</td>\n",
              "      <td>Normal</td>\n",
              "      <td>250000</td>\n",
              "    </tr>\n",
              "  </tbody>\n",
              "</table>\n",
              "<p>5 rows × 81 columns</p>\n",
              "</div>"
            ],
            "text/plain": [
              "   Id  MSSubClass MSZoning  ...  SaleType  SaleCondition SalePrice\n",
              "0   1          60       RL  ...        WD         Normal    208500\n",
              "1   2          20       RL  ...        WD         Normal    181500\n",
              "2   3          60       RL  ...        WD         Normal    223500\n",
              "3   4          70       RL  ...        WD        Abnorml    140000\n",
              "4   5          60       RL  ...        WD         Normal    250000\n",
              "\n",
              "[5 rows x 81 columns]"
            ]
          },
          "metadata": {
            "tags": []
          },
          "execution_count": 5
        }
      ]
    },
    {
      "cell_type": "code",
      "metadata": {
        "colab": {
          "base_uri": "https://localhost:8080/",
          "height": 194
        },
        "id": "QFDwWhwBm_IU",
        "outputId": "d6a4594a-9983-44f8-9f4e-02759ffd9a60"
      },
      "source": [
        "df = gia_nha_dat_us[['MSSubClass', 'MSZoning', 'LotArea', 'SalePrice']]\n",
        "df.head()"
      ],
      "execution_count": null,
      "outputs": [
        {
          "output_type": "execute_result",
          "data": {
            "text/html": [
              "<div>\n",
              "<style scoped>\n",
              "    .dataframe tbody tr th:only-of-type {\n",
              "        vertical-align: middle;\n",
              "    }\n",
              "\n",
              "    .dataframe tbody tr th {\n",
              "        vertical-align: top;\n",
              "    }\n",
              "\n",
              "    .dataframe thead th {\n",
              "        text-align: right;\n",
              "    }\n",
              "</style>\n",
              "<table border=\"1\" class=\"dataframe\">\n",
              "  <thead>\n",
              "    <tr style=\"text-align: right;\">\n",
              "      <th></th>\n",
              "      <th>MSSubClass</th>\n",
              "      <th>MSZoning</th>\n",
              "      <th>LotArea</th>\n",
              "      <th>SalePrice</th>\n",
              "    </tr>\n",
              "  </thead>\n",
              "  <tbody>\n",
              "    <tr>\n",
              "      <th>0</th>\n",
              "      <td>60</td>\n",
              "      <td>RL</td>\n",
              "      <td>8450</td>\n",
              "      <td>208500</td>\n",
              "    </tr>\n",
              "    <tr>\n",
              "      <th>1</th>\n",
              "      <td>20</td>\n",
              "      <td>RL</td>\n",
              "      <td>9600</td>\n",
              "      <td>181500</td>\n",
              "    </tr>\n",
              "    <tr>\n",
              "      <th>2</th>\n",
              "      <td>60</td>\n",
              "      <td>RL</td>\n",
              "      <td>11250</td>\n",
              "      <td>223500</td>\n",
              "    </tr>\n",
              "    <tr>\n",
              "      <th>3</th>\n",
              "      <td>70</td>\n",
              "      <td>RL</td>\n",
              "      <td>9550</td>\n",
              "      <td>140000</td>\n",
              "    </tr>\n",
              "    <tr>\n",
              "      <th>4</th>\n",
              "      <td>60</td>\n",
              "      <td>RL</td>\n",
              "      <td>14260</td>\n",
              "      <td>250000</td>\n",
              "    </tr>\n",
              "  </tbody>\n",
              "</table>\n",
              "</div>"
            ],
            "text/plain": [
              "   MSSubClass MSZoning  LotArea  SalePrice\n",
              "0          60       RL     8450     208500\n",
              "1          20       RL     9600     181500\n",
              "2          60       RL    11250     223500\n",
              "3          70       RL     9550     140000\n",
              "4          60       RL    14260     250000"
            ]
          },
          "metadata": {
            "tags": []
          },
          "execution_count": 6
        }
      ]
    },
    {
      "cell_type": "code",
      "metadata": {
        "colab": {
          "base_uri": "https://localhost:8080/",
          "height": 736
        },
        "id": "2PnpIoPhnA4W",
        "outputId": "c63f28a8-c2af-4658-c882-1f9c207a6009"
      },
      "source": [
        "# Engineering feature: log transform #\n",
        "data = df['SalePrice']\n",
        "# Sử dụng ln(1+r) ~ r để tránh rate of change #\n",
        "data = np.log1p(data)\n",
        "\n",
        "# Kiem tra data co chuan hay khong?\n",
        "mean = np.mean(data)\n",
        "# ddof=1 :: hiệu chỉnh\n",
        "std = np.std(data, ddof=1)\n",
        "domain = np.linspace(np.min(data), np.max(data))\n",
        "plt.plot(domain, stats.norm.pdf(domain, mean, std))\n",
        "#density=True :: chuẩn hóa dữ liệu về normal\n",
        "plt.hist(data, edgecolor='green', density=True)\n",
        "plt.show()"
      ],
      "execution_count": null,
      "outputs": [
        {
          "output_type": "display_data",
          "data": {
            "image/png": "[encoded data removed]",
            "text/plain": [
              "<Figure size 1600x900 with 1 Axes>"
            ]
          },
          "metadata": {
            "tags": [],
            "needs_background": "light"
          }
        }
      ]
    },
    {
      "cell_type": "code",
      "metadata": {
        "colab": {
          "base_uri": "https://localhost:8080/",
          "height": 749
        },
        "id": "JNFW8CWHnCoM",
        "outputId": "d075d2f8-65b1-4be1-b5d7-551040983c05"
      },
      "source": [
        "def standadize(data):\n",
        "    mean = np.mean(data)\n",
        "    std = np.std(data)\n",
        "    return (data - mean)/std\n",
        "\n",
        "sm.qqplot(standadize(data), line ='45')\n",
        "plt.show()"
      ],
      "execution_count": null,
      "outputs": [
        {
          "output_type": "display_data",
          "data": {
            "image/png": "[encoded data removed]",
            "text/plain": [
              "<Figure size 1600x900 with 1 Axes>"
            ]
          },
          "metadata": {
            "tags": [],
            "needs_background": "light"
          }
        }
      ]
    },
    {
      "cell_type": "code",
      "metadata": {
        "colab": {
          "base_uri": "https://localhost:8080/"
        },
        "id": "-vjrmbRCnVL8",
        "outputId": "a13060c9-c8b7-4be1-860f-db7da87bdb7f"
      },
      "source": [
        "my_mean = 150000\n",
        "my_log_mean = np.log1p(my_mean)\n",
        "print(my_log_mean)"
      ],
      "execution_count": null,
      "outputs": [
        {
          "output_type": "stream",
          "text": [
            "11.918397239722838\n"
          ],
          "name": "stdout"
        }
      ]
    },
    {
      "cell_type": "code",
      "metadata": {
        "id": "VxTedS9unXrc"
      },
      "source": [
        "def results(p, vals=['mean1', 'mean2'], alpha=0.05):\n",
        "    cols=['score', 'p_value', 'KetLuan']\n",
        "    if p['p_value'] < alpha:\n",
        "           p['KetLuan'] = f\"Chấp nhận H1 với mức ý nghĩa {alpha}\"\n",
        "    if p['p_value'] >= alpha:\n",
        "           p['KetLuan'] = f\"Chấp nhận H0 với mức ý nghĩa {alpha}\"\n",
        "    df = pd.DataFrame(p, index=[''])\n",
        "    if vals: cols = vals + cols\n",
        "    return df[cols]"
      ],
      "execution_count": null,
      "outputs": []
    },
    {
      "cell_type": "code",
      "metadata": {
        "id": "3iLXhF9DnYml"
      },
      "source": [
        "# Lay ngau nhien 100 diem du lieu #\n",
        "sample_1 = data.sample(n=100)"
      ],
      "execution_count": null,
      "outputs": []
    },
    {
      "cell_type": "code",
      "metadata": {
        "colab": {
          "base_uri": "https://localhost:8080/",
          "height": 76
        },
        "id": "xnNQ3qwynaUU",
        "outputId": "f9554337-3bb6-4fc1-a606-77b215cdd002"
      },
      "source": [
        "#Kiem dinh mean cua sample so voi ky vong mu_0=11.918397239722838\n",
        "# kiem dinh 2 phia: H0: mu = mu_0, H1: mu != mu_0\n",
        "from scipy.stats import ttest_1samp\n",
        "p = {}\n",
        "p['mean1'] = np.mean(sample_1)\n",
        "p['mean2'] = my_log_mean\n",
        "p['score'], p['p_value'] = ttest_1samp(sample_1, my_log_mean)\n",
        "results(p)"
      ],
      "execution_count": null,
      "outputs": [
        {
          "output_type": "execute_result",
          "data": {
            "text/html": [
              "<div>\n",
              "<style scoped>\n",
              "    .dataframe tbody tr th:only-of-type {\n",
              "        vertical-align: middle;\n",
              "    }\n",
              "\n",
              "    .dataframe tbody tr th {\n",
              "        vertical-align: top;\n",
              "    }\n",
              "\n",
              "    .dataframe thead th {\n",
              "        text-align: right;\n",
              "    }\n",
              "</style>\n",
              "<table border=\"1\" class=\"dataframe\">\n",
              "  <thead>\n",
              "    <tr style=\"text-align: right;\">\n",
              "      <th></th>\n",
              "      <th>mean1</th>\n",
              "      <th>mean2</th>\n",
              "      <th>score</th>\n",
              "      <th>p_value</th>\n",
              "      <th>KetLuan</th>\n",
              "    </tr>\n",
              "  </thead>\n",
              "  <tbody>\n",
              "    <tr>\n",
              "      <th></th>\n",
              "      <td>12.028675</td>\n",
              "      <td>11.918397</td>\n",
              "      <td>2.829806</td>\n",
              "      <td>0.00564</td>\n",
              "      <td>Chấp nhận H1 với mức ý nghĩa 0.05</td>\n",
              "    </tr>\n",
              "  </tbody>\n",
              "</table>\n",
              "</div>"
            ],
            "text/plain": [
              "      mean1      mean2     score  p_value                            KetLuan\n",
              "  12.028675  11.918397  2.829806  0.00564  Chấp nhận H1 với mức ý nghĩa 0.05"
            ]
          },
          "metadata": {
            "tags": []
          },
          "execution_count": 12
        }
      ]
    },
    {
      "cell_type": "code",
      "metadata": {
        "colab": {
          "base_uri": "https://localhost:8080/",
          "height": 76
        },
        "id": "s9bl4No1rst3",
        "outputId": "4ace435c-27cf-4d32-9bf4-a7d5f85dabec"
      },
      "source": [
        "# alternative{‘two-sided’, ‘less’, ‘greater’}\n",
        "# kiem dinh ben trai: H0 mu = mu_0, H1: mu < mu_0\n",
        "p = {}\n",
        "p['mean1'] = np.mean(sample_1)\n",
        "p['mean2'] = my_log_mean\n",
        "p['score'], p['p_value'] = ttest_1samp(sample_1, my_log_mean, alternative='less')\n",
        "results(p)"
      ],
      "execution_count": null,
      "outputs": [
        {
          "output_type": "execute_result",
          "data": {
            "text/html": [
              "<div>\n",
              "<style scoped>\n",
              "    .dataframe tbody tr th:only-of-type {\n",
              "        vertical-align: middle;\n",
              "    }\n",
              "\n",
              "    .dataframe tbody tr th {\n",
              "        vertical-align: top;\n",
              "    }\n",
              "\n",
              "    .dataframe thead th {\n",
              "        text-align: right;\n",
              "    }\n",
              "</style>\n",
              "<table border=\"1\" class=\"dataframe\">\n",
              "  <thead>\n",
              "    <tr style=\"text-align: right;\">\n",
              "      <th></th>\n",
              "      <th>mean1</th>\n",
              "      <th>mean2</th>\n",
              "      <th>score</th>\n",
              "      <th>p_value</th>\n",
              "      <th>KetLuan</th>\n",
              "    </tr>\n",
              "  </thead>\n",
              "  <tbody>\n",
              "    <tr>\n",
              "      <th></th>\n",
              "      <td>12.028675</td>\n",
              "      <td>11.918397</td>\n",
              "      <td>2.829806</td>\n",
              "      <td>0.99718</td>\n",
              "      <td>Chấp nhận H0 với mức ý nghĩa 0.05</td>\n",
              "    </tr>\n",
              "  </tbody>\n",
              "</table>\n",
              "</div>"
            ],
            "text/plain": [
              "      mean1      mean2     score  p_value                            KetLuan\n",
              "  12.028675  11.918397  2.829806  0.99718  Chấp nhận H0 với mức ý nghĩa 0.05"
            ]
          },
          "metadata": {
            "tags": []
          },
          "execution_count": 13
        }
      ]
    },
    {
      "cell_type": "code",
      "metadata": {
        "colab": {
          "base_uri": "https://localhost:8080/",
          "height": 76
        },
        "id": "flQYKeUGs-4e",
        "outputId": "01598f21-5d75-4067-b3bb-f4421418c4ea"
      },
      "source": [
        "# alternative{‘two-sided’, ‘less’, ‘greater’}\n",
        "# kiem dinh ben phai: H0 mu = mu_0, H1: mu > mu_0\n",
        "p = {}\n",
        "p['mean1'] = np.mean(sample_1)\n",
        "p['mean2'] = my_log_mean\n",
        "p['score'], p['p_value'] = ttest_1samp(sample_1, my_log_mean, alternative='greater')\n",
        "results(p)"
      ],
      "execution_count": null,
      "outputs": [
        {
          "output_type": "execute_result",
          "data": {
            "text/html": [
              "<div>\n",
              "<style scoped>\n",
              "    .dataframe tbody tr th:only-of-type {\n",
              "        vertical-align: middle;\n",
              "    }\n",
              "\n",
              "    .dataframe tbody tr th {\n",
              "        vertical-align: top;\n",
              "    }\n",
              "\n",
              "    .dataframe thead th {\n",
              "        text-align: right;\n",
              "    }\n",
              "</style>\n",
              "<table border=\"1\" class=\"dataframe\">\n",
              "  <thead>\n",
              "    <tr style=\"text-align: right;\">\n",
              "      <th></th>\n",
              "      <th>mean1</th>\n",
              "      <th>mean2</th>\n",
              "      <th>score</th>\n",
              "      <th>p_value</th>\n",
              "      <th>KetLuan</th>\n",
              "    </tr>\n",
              "  </thead>\n",
              "  <tbody>\n",
              "    <tr>\n",
              "      <th></th>\n",
              "      <td>12.028675</td>\n",
              "      <td>11.918397</td>\n",
              "      <td>2.829806</td>\n",
              "      <td>0.00282</td>\n",
              "      <td>Chấp nhận H1 với mức ý nghĩa 0.05</td>\n",
              "    </tr>\n",
              "  </tbody>\n",
              "</table>\n",
              "</div>"
            ],
            "text/plain": [
              "      mean1      mean2     score  p_value                            KetLuan\n",
              "  12.028675  11.918397  2.829806  0.00282  Chấp nhận H1 với mức ý nghĩa 0.05"
            ]
          },
          "metadata": {
            "tags": []
          },
          "execution_count": 15
        }
      ]
    },
    {
      "cell_type": "markdown",
      "metadata": {
        "id": "RPQHpzS_77_2"
      },
      "source": [
        "**Chọn giá trị n lớn hơn 100 khác nhau**"
      ]
    },
    {
      "cell_type": "code",
      "metadata": {
        "id": "2qUGpHwZ4bYm"
      },
      "source": [
        "so_luong = np.linspace(200, 1400, 7)\n",
        "sample_s = []\n",
        "for n in (so_luong):\n",
        "    n = int(n)\n",
        "    sample_s.append(data.sample(n=n))"
      ],
      "execution_count": null,
      "outputs": []
    },
    {
      "cell_type": "code",
      "metadata": {
        "colab": {
          "base_uri": "https://localhost:8080/"
        },
        "id": "UPQEDOPO7RL9",
        "outputId": "f8df682f-c872-4735-96d9-c8fb26df5f1f"
      },
      "source": [
        "print(sample_s[1])"
      ],
      "execution_count": null,
      "outputs": [
        {
          "output_type": "stream",
          "text": [
            "478     12.601491\n",
            "1269    11.877576\n",
            "227     11.571204\n",
            "1018    11.982935\n",
            "403     12.460719\n",
            "          ...    \n",
            "866     12.424811\n",
            "119     12.007567\n",
            "465     12.093693\n",
            "280     12.339296\n",
            "371     11.808821\n",
            "Name: SalePrice, Length: 400, dtype: float64\n"
          ],
          "name": "stdout"
        }
      ]
    },
    {
      "cell_type": "markdown",
      "metadata": {
        "id": "gz7qQZrf-vDm"
      },
      "source": [
        "**Kiểm định 2 phía**: khi mẫu càng lớn thì p_value càng dần tiến đến 1. Kết luận dần tiến về phía chấp nhận H0"
      ]
    },
    {
      "cell_type": "code",
      "metadata": {
        "colab": {
          "base_uri": "https://localhost:8080/"
        },
        "id": "-GhfEfNs9nhX",
        "outputId": "cfac86ec-41b8-4624-f4f9-26bdb7cfe513"
      },
      "source": [
        "for sample in sample_s:\n",
        "    p = {}\n",
        "    p['mean1'] = np.mean(sample)\n",
        "    p['mean2'] = my_log_mean\n",
        "    p['score'], p['p_value'] = ttest_1samp(sample, my_log_mean, alternative='less')\n",
        "    print(f' kết quả khi n = {len(sample)}')\n",
        "    print(results(p))\n"
      ],
      "execution_count": null,
      "outputs": [
        {
          "output_type": "stream",
          "text": [
            " kết quả khi n = 200\n",
            "      mean1      mean2     score   p_value                            KetLuan\n",
            "  12.019629  11.918397  3.691164  0.999856  Chấp nhận H0 với mức ý nghĩa 0.05\n",
            " kết quả khi n = 400\n",
            "      mean1      mean2     score  p_value                            KetLuan\n",
            "  12.043054  11.918397  6.168602      1.0  Chấp nhận H0 với mức ý nghĩa 0.05\n",
            " kết quả khi n = 600\n",
            "      mean1      mean2     score  p_value                            KetLuan\n",
            "  12.039452  11.918397  7.445314      1.0  Chấp nhận H0 với mức ý nghĩa 0.05\n",
            " kết quả khi n = 800\n",
            "      mean1      mean2     score  p_value                            KetLuan\n",
            "  12.007105  11.918397  6.352496      1.0  Chấp nhận H0 với mức ý nghĩa 0.05\n",
            " kết quả khi n = 1000\n",
            "      mean1      mean2     score  p_value                            KetLuan\n",
            "  12.025072  11.918397  8.513889      1.0  Chấp nhận H0 với mức ý nghĩa 0.05\n",
            " kết quả khi n = 1200\n",
            "      mean1      mean2     score  p_value                            KetLuan\n",
            "  12.019921  11.918397  8.725546      1.0  Chấp nhận H0 với mức ý nghĩa 0.05\n",
            " kết quả khi n = 1400\n",
            "      mean1      mean2      score  p_value                            KetLuan\n",
            "  12.025243  11.918397  10.020451      1.0  Chấp nhận H0 với mức ý nghĩa 0.05\n"
          ],
          "name": "stdout"
        }
      ]
    },
    {
      "cell_type": "markdown",
      "metadata": {
        "id": "yNgomj399KuH"
      },
      "source": [
        "**Kiểm định một phía trái**: khi mẫu càng lớn thì p_value càng dần tiến đến 1. Kết luận dần tiến về phía chấp nhận H0"
      ]
    },
    {
      "cell_type": "code",
      "metadata": {
        "colab": {
          "base_uri": "https://localhost:8080/"
        },
        "id": "9owjAmW_9Hjs",
        "outputId": "c2d0782c-6f1e-4aa0-c315-8fa3e9c12ab1"
      },
      "source": [
        "for sample in sample_s:\n",
        "    p = {}\n",
        "    p['mean1'] = np.mean(sample)\n",
        "    p['mean2'] = my_log_mean\n",
        "    p['score'], p['p_value'] = ttest_1samp(sample, my_log_mean)\n",
        "    print(f' kết quả khi n = {len(sample)}')\n",
        "    print(results(p))\n",
        "    print(' ')"
      ],
      "execution_count": null,
      "outputs": [
        {
          "output_type": "stream",
          "text": [
            " kết quả khi n = 200\n",
            "      mean1      mean2     score   p_value                            KetLuan\n",
            "  12.019629  11.918397  3.691164  0.000288  Chấp nhận H1 với mức ý nghĩa 0.05\n",
            " \n",
            " kết quả khi n = 400\n",
            "      mean1      mean2  ...       p_value                            KetLuan\n",
            "  12.043054  11.918397  ...  1.691872e-09  Chấp nhận H1 với mức ý nghĩa 0.05\n",
            "\n",
            "[1 rows x 5 columns]\n",
            " \n",
            " kết quả khi n = 600\n",
            "      mean1      mean2  ...       p_value                            KetLuan\n",
            "  12.039452  11.918397  ...  3.383588e-13  Chấp nhận H1 với mức ý nghĩa 0.05\n",
            "\n",
            "[1 rows x 5 columns]\n",
            " \n",
            " kết quả khi n = 800\n",
            "      mean1      mean2  ...       p_value                            KetLuan\n",
            "  12.007105  11.918397  ...  3.554009e-10  Chấp nhận H1 với mức ý nghĩa 0.05\n",
            "\n",
            "[1 rows x 5 columns]\n",
            " \n",
            " kết quả khi n = 1000\n",
            "      mean1      mean2  ...       p_value                            KetLuan\n",
            "  12.025072  11.918397  ...  6.106186e-17  Chấp nhận H1 với mức ý nghĩa 0.05\n",
            "\n",
            "[1 rows x 5 columns]\n",
            " \n",
            " kết quả khi n = 1200\n",
            "      mean1      mean2  ...       p_value                            KetLuan\n",
            "  12.019921  11.918397  ...  8.710726e-18  Chấp nhận H1 với mức ý nghĩa 0.05\n",
            "\n",
            "[1 rows x 5 columns]\n",
            " \n",
            " kết quả khi n = 1400\n",
            "      mean1      mean2  ...       p_value                            KetLuan\n",
            "  12.025243  11.918397  ...  7.162960e-23  Chấp nhận H1 với mức ý nghĩa 0.05\n",
            "\n",
            "[1 rows x 5 columns]\n",
            " \n"
          ],
          "name": "stdout"
        }
      ]
    },
    {
      "cell_type": "markdown",
      "metadata": {
        "id": "nJHQ79_s8taV"
      },
      "source": [
        "**Kiểm định một phía phải**: khi mẫu càng lớn thì p_value càng dần tiến về 0. Kết luận dần tiến về phía chấp nhận H1"
      ]
    },
    {
      "cell_type": "code",
      "metadata": {
        "colab": {
          "base_uri": "https://localhost:8080/"
        },
        "id": "IzGSLyuKwVUG",
        "outputId": "4242e6e7-0bd6-4f90-d523-b755103a69f1"
      },
      "source": [
        "for sample in sample_s:\n",
        "    p = {}\n",
        "    p['mean1'] = np.mean(sample)\n",
        "    p['mean2'] = my_log_mean\n",
        "    p['score'], p['p_value'] = ttest_1samp(sample, my_log_mean, alternative='greater')\n",
        "    print(f' kết quả khi n = {len(sample)}')\n",
        "    print(results(p))\n",
        "    print(' ')"
      ],
      "execution_count": null,
      "outputs": [
        {
          "output_type": "stream",
          "text": [
            " kết quả khi n = 200\n",
            "      mean1      mean2     score   p_value                            KetLuan\n",
            "  12.019629  11.918397  3.691164  0.000144  Chấp nhận H1 với mức ý nghĩa 0.05\n",
            " \n",
            " kết quả khi n = 400\n",
            "      mean1      mean2  ...       p_value                            KetLuan\n",
            "  12.043054  11.918397  ...  8.459362e-10  Chấp nhận H1 với mức ý nghĩa 0.05\n",
            "\n",
            "[1 rows x 5 columns]\n",
            " \n",
            " kết quả khi n = 600\n",
            "      mean1      mean2  ...       p_value                            KetLuan\n",
            "  12.039452  11.918397  ...  1.691794e-13  Chấp nhận H1 với mức ý nghĩa 0.05\n",
            "\n",
            "[1 rows x 5 columns]\n",
            " \n",
            " kết quả khi n = 800\n",
            "      mean1      mean2  ...       p_value                            KetLuan\n",
            "  12.007105  11.918397  ...  1.777004e-10  Chấp nhận H1 với mức ý nghĩa 0.05\n",
            "\n",
            "[1 rows x 5 columns]\n",
            " \n",
            " kết quả khi n = 1000\n",
            "      mean1      mean2  ...       p_value                            KetLuan\n",
            "  12.025072  11.918397  ...  3.053093e-17  Chấp nhận H1 với mức ý nghĩa 0.05\n",
            "\n",
            "[1 rows x 5 columns]\n",
            " \n",
            " kết quả khi n = 1200\n",
            "      mean1      mean2  ...       p_value                            KetLuan\n",
            "  12.019921  11.918397  ...  4.355363e-18  Chấp nhận H1 với mức ý nghĩa 0.05\n",
            "\n",
            "[1 rows x 5 columns]\n",
            " \n",
            " kết quả khi n = 1400\n",
            "      mean1      mean2  ...       p_value                            KetLuan\n",
            "  12.025243  11.918397  ...  3.581480e-23  Chấp nhận H1 với mức ý nghĩa 0.05\n",
            "\n",
            "[1 rows x 5 columns]\n",
            " \n"
          ],
          "name": "stdout"
        }
      ]
    },
    {
      "cell_type": "markdown",
      "metadata": {
        "id": "JirefGzCCLnZ"
      },
      "source": [
        "Nhận thấy để tìm ra được giá trị kỳ vọng **gần với giá trị trung bình của mẫu nhất** (*với mức ý nghĩa 0.05*). Thì giá trị kì vọng đó nên **bằng đúng với trung bình mẫu**."
      ]
    },
    {
      "cell_type": "code",
      "metadata": {
        "colab": {
          "base_uri": "https://localhost:8080/"
        },
        "id": "w0acsmoB-1Ik",
        "outputId": "51f340e5-d3d3-4462-e74e-cf967037532e"
      },
      "source": [
        "my_log_mean_2 = 12.024474\n",
        "# suy ra my_mean\n",
        "my_mean_2 =  np.expm1(my_log_mean_2)\n",
        "print(my_mean_2)"
      ],
      "execution_count": null,
      "outputs": [
        {
          "output_type": "stream",
          "text": [
            "166786.19543785087\n"
          ],
          "name": "stdout"
        }
      ]
    },
    {
      "cell_type": "code",
      "metadata": {
        "colab": {
          "base_uri": "https://localhost:8080/",
          "height": 76
        },
        "id": "OJ4-4-WE_SL2",
        "outputId": "e753facf-b665-4729-d53e-09760fa64d8a"
      },
      "source": [
        "p = {}\n",
        "p['mean1'] = np.mean(sample)\n",
        "p['mean2'] = my_log_mean_2\n",
        "p['score'], p['p_value'] = ttest_1samp(sample, my_log_mean_2)\n",
        "results(p)"
      ],
      "execution_count": null,
      "outputs": [
        {
          "output_type": "execute_result",
          "data": {
            "text/html": [
              "<div>\n",
              "<style scoped>\n",
              "    .dataframe tbody tr th:only-of-type {\n",
              "        vertical-align: middle;\n",
              "    }\n",
              "\n",
              "    .dataframe tbody tr th {\n",
              "        vertical-align: top;\n",
              "    }\n",
              "\n",
              "    .dataframe thead th {\n",
              "        text-align: right;\n",
              "    }\n",
              "</style>\n",
              "<table border=\"1\" class=\"dataframe\">\n",
              "  <thead>\n",
              "    <tr style=\"text-align: right;\">\n",
              "      <th></th>\n",
              "      <th>mean1</th>\n",
              "      <th>mean2</th>\n",
              "      <th>score</th>\n",
              "      <th>p_value</th>\n",
              "      <th>KetLuan</th>\n",
              "    </tr>\n",
              "  </thead>\n",
              "  <tbody>\n",
              "    <tr>\n",
              "      <th></th>\n",
              "      <td>12.025243</td>\n",
              "      <td>12.024474</td>\n",
              "      <td>0.072107</td>\n",
              "      <td>0.942527</td>\n",
              "      <td>Chấp nhận H0 với mức ý nghĩa 0.05</td>\n",
              "    </tr>\n",
              "  </tbody>\n",
              "</table>\n",
              "</div>"
            ],
            "text/plain": [
              "      mean1      mean2     score   p_value                            KetLuan\n",
              "  12.025243  12.024474  0.072107  0.942527  Chấp nhận H0 với mức ý nghĩa 0.05"
            ]
          },
          "metadata": {
            "tags": []
          },
          "execution_count": 21
        }
      ]
    }
  ]
}