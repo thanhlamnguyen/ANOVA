{
  "nbformat": 4,
  "nbformat_minor": 0,
  "metadata": {
    "kernelspec": {
      "display_name": "Python 3",
      "language": "python",
      "name": "python3"
    },
    "language_info": {
      "codemirror_mode": {
        "name": "ipython",
        "version": 3
      },
      "file_extension": ".py",
      "mimetype": "text/x-python",
      "name": "python",
      "nbconvert_exporter": "python",
      "pygments_lexer": "ipython3",
      "version": "3.7.3"
    },
    "colab": {
      "name": "huong-dan-gia-dinh-ANOVA.ipynb",
      "provenance": [],
      "include_colab_link": true
    }
  },
  "cells": [
    {
      "cell_type": "markdown",
      "metadata": {
        "id": "view-in-github",
        "colab_type": "text"
      },
      "source": [
        "<a href=\"https://colab.research.google.com/github/thanhlamnguyen/ANOVA/blob/main/huong_dan_gia_dinh_ANOVA.ipynb\" target=\"_parent\"><img src=\"https://colab.research.google.com/assets/colab-badge.svg\" alt=\"Open In Colab\"/></a>"
      ]
    },
    {
      "cell_type": "markdown",
      "metadata": {
        "id": "Lab8-Bu6PNnS"
      },
      "source": [
        "PHÂN TÍCH ANOVA MỘT CHIỀU\n",
        "\n",
        "Phân tích ANOVA chấp nhận các giả định sau:\n",
        "\n",
        "(1) Tất cả các nhóm đều độc lập với nhau\n",
        "\n",
        "(2) Dữ liệu của mỗi nhóm đều tuân theo phân phối chuẩn. Tính chất này có thể được kiểm định bằng phương pháp Shapiro-Wilks.\n",
        "\n",
        "(3) Phương sai (variance) của các nhóm bằng nhau. Tính chất này có thể được kiểm định bằng phương pháp kiểm định Bartlett hay Levene.\n",
        "\n",
        "Nếu dữ liệu hiện có thỏa mãn các tính chất trên thì chúng ta mới tiến hành kiểm định ANOVA. Do vậy trước khi tiến hành kiểm định ANOVA, chúng ta cần thực hiện kiểm tra tập dữ liệu cần thỏa mãn 3 tính chất trên.\n",
        "    "
      ]
    },
    {
      "cell_type": "code",
      "metadata": {
        "id": "htZHecdyTTQp"
      },
      "source": [
        "import numpy as np\n",
        "import scipy.stats as st\n",
        "from scipy import stats"
      ],
      "execution_count": 7,
      "outputs": []
    },
    {
      "cell_type": "code",
      "metadata": {
        "id": "9LY3eDlZPNnt",
        "outputId": "4bff5ab3-1603-4aeb-a859-c423c269fa9b",
        "colab": {
          "base_uri": "https://localhost:8080/"
        }
      },
      "source": [
        "#Bước 1: Hãy tạo một tập dữ liệu mẫu sample_1 với kích thước 100 tuân theo phân phối chuẩn\n",
        "sample_1 = np.random.normal(1.99, 0.05, 100)\n",
        "sample_1"
      ],
      "execution_count": 8,
      "outputs": [
        {
          "output_type": "execute_result",
          "data": {
            "text/plain": [
              "array([1.99398601, 1.95444851, 2.07072379, 1.97832421, 2.0189632 ,\n",
              "       1.97455486, 1.98985337, 1.99533459, 1.95205417, 2.05340589,\n",
              "       1.99645525, 2.0050876 , 1.95019247, 2.04903856, 2.00594597,\n",
              "       1.9479419 , 2.04014996, 2.04580897, 1.99262512, 1.99876823,\n",
              "       1.93219414, 1.93641552, 2.03390686, 1.97185128, 1.96125511,\n",
              "       2.00954598, 2.01021822, 1.97931531, 1.96945359, 1.94425425,\n",
              "       1.98940709, 1.89935155, 1.99283183, 1.94944018, 2.04639715,\n",
              "       1.9383931 , 2.04807957, 1.97391609, 1.96605361, 2.03249262,\n",
              "       2.03834974, 1.98860051, 2.0359219 , 2.02938408, 2.05706783,\n",
              "       1.95899785, 1.91755218, 1.94969266, 1.93581616, 2.06229693,\n",
              "       2.09099845, 2.00894437, 1.95131101, 1.95281579, 2.00034558,\n",
              "       2.08454406, 2.10640056, 1.95880489, 1.98130323, 2.07193671,\n",
              "       2.07782047, 1.94051278, 1.98750904, 1.98761544, 1.9989024 ,\n",
              "       1.90998855, 2.00540635, 2.01014683, 1.9926926 , 1.94562839,\n",
              "       2.00116295, 1.98875995, 2.09638045, 1.99360388, 2.03249843,\n",
              "       1.95954547, 1.94702576, 2.01908806, 1.97122278, 2.04502154,\n",
              "       2.02244716, 2.0281545 , 2.03158313, 1.90236161, 2.00724154,\n",
              "       1.90075423, 1.96698323, 2.11713363, 2.0056895 , 1.95672023,\n",
              "       1.96508829, 1.96227746, 2.00745213, 1.96111568, 1.8998061 ,\n",
              "       1.98421193, 1.98404886, 2.00683907, 2.03082251, 1.81727642])"
            ]
          },
          "metadata": {
            "tags": []
          },
          "execution_count": 8
        }
      ]
    },
    {
      "cell_type": "code",
      "metadata": {
        "id": "jWzr_wSBPNnx",
        "outputId": "b1037071-a3e1-4e59-d9c9-8abcd79020c5",
        "colab": {
          "base_uri": "https://localhost:8080/"
        }
      },
      "source": [
        "#Bước 2: hãy tạo tập dữ liệu mẫu sample_2 với kích thước 100 tuân theo phân phối Poisson\n",
        "sample_2 = st.poisson.rvs(loc=1.99, mu=0.05, size=100)\n",
        "sample_2"
      ],
      "execution_count": 9,
      "outputs": [
        {
          "output_type": "execute_result",
          "data": {
            "text/plain": [
              "array([1, 1, 2, 1, 1, 1, 1, 1, 1, 1, 1, 1, 1, 1, 1, 1, 1, 1, 2, 1, 1, 1,\n",
              "       1, 1, 1, 1, 1, 1, 1, 1, 1, 1, 1, 1, 1, 1, 3, 1, 1, 1, 1, 1, 1, 1,\n",
              "       1, 1, 1, 1, 1, 1, 1, 1, 1, 1, 2, 1, 1, 1, 1, 1, 2, 1, 1, 1, 1, 1,\n",
              "       1, 1, 1, 1, 1, 1, 1, 1, 1, 1, 1, 2, 1, 1, 1, 1, 1, 1, 2, 1, 1, 1,\n",
              "       1, 1, 2, 1, 1, 1, 1, 1, 1, 1, 1, 1])"
            ]
          },
          "metadata": {
            "tags": []
          },
          "execution_count": 9
        }
      ]
    },
    {
      "cell_type": "markdown",
      "metadata": {
        "id": "X6pdLpjVPNny"
      },
      "source": [
        "Hãy tham khảo các hướng dẫn sau để kiểm định tính chất thứ 2 bằng phương pháp Shapiro-Wilks đối với sample_1 và sample_2\n",
        "\n",
        "(1) [Tài liệu tham khảo scipy](https://docs.scipy.org/doc/scipy/reference/generated/scipy.stats.shapiro.html)\n",
        "\n",
        "(2) [Hướng dẫn cụ thể của statology](https://www.statology.org/shapiro-wilk-test-python/)"
      ]
    },
    {
      "cell_type": "code",
      "metadata": {
        "id": "JvQwOuc8PNn1",
        "outputId": "3e494461-76a4-4b39-fb8c-937b8704e871",
        "colab": {
          "base_uri": "https://localhost:8080/"
        }
      },
      "source": [
        "#Code kiểm định tính chất thứ 2 của sample_1 và sample_2\n",
        "shapiro_test_1 = stats.shapiro(sample_1)[1]\n",
        "print(shapiro_test_1)\n",
        "if shapiro_test_1 > 0.05:\n",
        "  print(\"Đến từ phân phối chuẩn\")\n",
        "else:\n",
        "  print(\"Không đến từ phân phối chuẩn\")"
      ],
      "execution_count": 21,
      "outputs": [
        {
          "output_type": "stream",
          "text": [
            "0.35780760645866394\n",
            "Đến từ phân phối chuẩn\n"
          ],
          "name": "stdout"
        }
      ]
    },
    {
      "cell_type": "code",
      "metadata": {
        "id": "n70qit_Flf_9",
        "outputId": "4a486926-ece9-4cc3-d512-049b854d57a4",
        "colab": {
          "base_uri": "https://localhost:8080/"
        }
      },
      "source": [
        "shapiro_test_2 = stats.shapiro(sample_2)[1]\n",
        "print(shapiro_test_2)\n",
        "if shapiro_test_2 > 0.05:\n",
        "  print(\"Đến từ phân phối chuẩn\")\n",
        "else:\n",
        "  print(\"Không đến từ phân phối chuẩn\")"
      ],
      "execution_count": 17,
      "outputs": [
        {
          "output_type": "stream",
          "text": [
            "1.2770872496479165e-19\n",
            "Không đến từ phân phối chuẩn\n"
          ],
          "name": "stdout"
        }
      ]
    },
    {
      "cell_type": "markdown",
      "metadata": {
        "id": "pcXFC8EZPNn2"
      },
      "source": [
        "Hãy tham khảo các hướng dẫn sau để kiểm định tính chất thứ 3 bằng kiểm định Bartlett hoặc kiểm định Levene\n",
        "\n",
        "(1) [Hướng dẫn tổng quát](https://www.marsja.se/levenes-bartletts-test-of-equality-homogeneity-of-variance-in-python/)\n",
        "\n",
        "(2) [Hướng dẫn ở stackoverflow](https://stackoverflow.com/questions/36141254/how-to-test-for-homoscedasticity-having-the-same-population-variance-in-python)\n",
        "\n",
        "(3) Sử dụng bài giảng về kiểm định Bartlett và Levene ở buổi trước"
      ]
    },
    {
      "cell_type": "code",
      "metadata": {
        "id": "thO6_g4RPNn4"
      },
      "source": [
        "#Code kiểm định tính đồng nhất về phương sai của các nhóm"
      ],
      "execution_count": null,
      "outputs": []
    },
    {
      "cell_type": "code",
      "metadata": {
        "id": "f9yR49LLPNn5",
        "outputId": "b1cda851-8ef5-46ec-d498-8e23ee149641",
        "colab": {
          "base_uri": "https://localhost:8080/"
        }
      },
      "source": [
        "shapiro_test_3 = stats.levene(sample_1,sample_2)[1]\n",
        "if shapiro_test_3 > 0.05:\n",
        "    print('Phương sai bằng nhau')\n",
        "else:\n",
        "    print('Phương sai không bằng nhau')"
      ],
      "execution_count": 18,
      "outputs": [
        {
          "output_type": "stream",
          "text": [
            "Phương sai bằng nhau\n"
          ],
          "name": "stdout"
        }
      ]
    }
  ]
}